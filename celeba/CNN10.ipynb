{
 "cells": [
  {
   "cell_type": "code",
   "execution_count": 1,
   "id": "472eedd8",
   "metadata": {},
   "outputs": [],
   "source": [
    "import numpy as np\n",
    "import pandas as pd\n",
    "import PIL\n",
    "import matplotlib.patches as patches\n",
    "import matplotlib.pyplot as plt\n",
    "import tensorflow as tf\n",
    "from sklearn.model_selection import train_test_split\n",
    "from tensorflow.keras.models import Sequential\n",
    "from tensorflow.keras.layers import Dense,Dropout,Flatten,Conv2D,MaxPooling2D\n",
    "from tensorflow.keras.preprocessing import image"
   ]
  },
  {
   "cell_type": "code",
   "execution_count": 8,
   "id": "610903cb",
   "metadata": {},
   "outputs": [
    {
     "name": "stdout",
     "output_type": "stream",
     "text": [
      "Samples Training Set: 7000\n",
      "Samples in Validation Data: 1500\n",
      "Samples in Test Data: 1500\n"
     ]
    }
   ],
   "source": [
    "attr_data_path = \"list_attr_celeba.csv\"\n",
    "images_data_path = \"C:/Users/foreh/Documents/celeba/greyscale\"\n",
    "images_data_size = 10000 \n",
    "\n",
    "width = 178\n",
    "height = 218\n",
    "x_ = 100                            # new value of x\n",
    "image_size_ratio = width / height    # dimensions ratio\n",
    "y_ = int(image_size_ratio * x_)  \n",
    "df_org = pd.read_csv(attr_data_path)\n",
    "df = df_org[:images_data_size]\n",
    "df = df.replace(-1,0)\n",
    "#print(df.head(5))\n",
    "images_data = list()\n",
    "for idx in range(df.shape[0]):\n",
    "    path = \"{}/{}\".format(str(images_data_path),str(df.iloc[idx].image_id))\n",
    "    image = PIL.Image.open(path)\n",
    "    image_array = np.asarray(image)\n",
    "    images_data.append(image_array)\n",
    "images_data = np.array(images_data)\n",
    "def image_from_index(index, size=(width,height), path=images_data_path):\n",
    "    path = \"{}/{}\".format(str(path),str(df.iloc[index].image_id))\n",
    "    # to read the image\n",
    "    image = PIL.Image.open(path).resize(size)\n",
    "    image_array = np.asarray(image)\n",
    "\n",
    "    return image_array\n",
    "images = images_data # list of array of images\n",
    "labels = df[[\"image_id\", \"Bangs\", \"Straight_Hair\", \"Wavy_Hair\", \"Wearing_Hat\"]]  # dataframe of image features\n",
    "train_images,test_images,train_labels,test_labels = train_test_split(images,labels,test_size=0.3,random_state=(4))\n",
    "y_test=test_labels.drop([\"image_id\"],axis=1)\n",
    "y_train=train_labels.drop([\"image_id\"],axis=1)\n",
    "X_test=test_images\n",
    "X_train=train_images\n",
    "#X_train = tf.expand_dims(X_train, axis=-1)\n",
    "print(\"Samples Training Set:\",len(X_train))\n",
    "X_test, X_val, y_test, y_val=train_test_split(X_test, y_test,test_size=0.5,random_state=(1))\n",
    "print(\"Samples in Validation Data:\",len(X_val))\n",
    "print(\"Samples in Test Data:\",len(X_test))"
   ]
  },
  {
   "cell_type": "code",
   "execution_count": 25,
   "id": "d4155b45",
   "metadata": {},
   "outputs": [
    {
     "name": "stdout",
     "output_type": "stream",
     "text": [
      "Model: \"sequential\"\n",
      "_________________________________________________________________\n",
      " Layer (type)                Output Shape              Param #   \n",
      "=================================================================\n",
      " normalization (Normalizatio  (None, 218, 178, 1)      3         \n",
      " n)                                                              \n",
      "                                                                 \n",
      " conv2d (Conv2D)             (None, 211, 171, 16)      1040      \n",
      "                                                                 \n",
      " conv2d_1 (Conv2D)           (None, 207, 167, 16)      6416      \n",
      "                                                                 \n",
      " normalization_1 (Normalizat  (None, 207, 167, 16)     33        \n",
      " ion)                                                            \n",
      "                                                                 \n",
      " conv2d_2 (Conv2D)           (None, 207, 167, 12)      3084      \n",
      "                                                                 \n",
      " max_pooling2d (MaxPooling2D  (None, 103, 83, 12)      0         \n",
      " )                                                               \n",
      "                                                                 \n",
      " dropout (Dropout)           (None, 103, 83, 12)       0         \n",
      "                                                                 \n",
      " conv2d_3 (Conv2D)           (None, 103, 83, 16)       1744      \n",
      "                                                                 \n",
      " conv2d_4 (Conv2D)           (None, 103, 83, 16)       1040      \n",
      "                                                                 \n",
      " normalization_2 (Normalizat  (None, 103, 83, 16)      33        \n",
      " ion)                                                            \n",
      "                                                                 \n",
      " max_pooling2d_1 (MaxPooling  (None, 51, 41, 16)       0         \n",
      " 2D)                                                             \n",
      "                                                                 \n",
      " dropout_1 (Dropout)         (None, 51, 41, 16)        0         \n",
      "                                                                 \n",
      " conv2d_5 (Conv2D)           (None, 51, 41, 80)        11600     \n",
      "                                                                 \n",
      " conv2d_6 (Conv2D)           (None, 51, 41, 32)        10272     \n",
      "                                                                 \n",
      " max_pooling2d_2 (MaxPooling  (None, 17, 13, 32)       0         \n",
      " 2D)                                                             \n",
      "                                                                 \n",
      " normalization_3 (Normalizat  (None, 17, 13, 32)       65        \n",
      " ion)                                                            \n",
      "                                                                 \n",
      " flatten (Flatten)           (None, 7072)              0         \n",
      "                                                                 \n",
      " dense (Dense)               (None, 64)                452672    \n",
      "                                                                 \n",
      " dense_1 (Dense)             (None, 48)                3120      \n",
      "                                                                 \n",
      " dense_2 (Dense)             (None, 16)                784       \n",
      "                                                                 \n",
      " dense_3 (Dense)             (None, 4)                 68        \n",
      "                                                                 \n",
      "=================================================================\n",
      "Total params: 491,974\n",
      "Trainable params: 491,840\n",
      "Non-trainable params: 134\n",
      "_________________________________________________________________\n"
     ]
    }
   ],
   "source": [
    "tf.keras.backend.clear_session()\n",
    "model = Sequential()\n",
    "model.add(tf.keras.Input(shape=(height, width,1)))\n",
    "model.add(tf.keras.layers.Normalization())\n",
    "\n",
    "#conv2d\n",
    "model.add(Conv2D(filters=16,kernel_size=(8,8),padding = 'valid'))\n",
    "#conv2d-1\n",
    "model.add(Conv2D(filters=16, kernel_size=(5,5), padding='valid'))\n",
    "model.add(tf.keras.layers.Normalization())\n",
    "\n",
    "#conv2d-2\n",
    "model.add(Conv2D(filters=12, kernel_size=(4, 4), strides=1, padding='same'))\n",
    "model.add(MaxPooling2D(pool_size=2))\n",
    "\n",
    "model.add(Dropout(0.2))\n",
    "\n",
    "model.add(Conv2D(filters=16,kernel_size=(3,3),padding = 'same'))\n",
    "model.add(Conv2D(filters=16,kernel_size=(2,2),padding = 'same'))\n",
    "model.add(tf.keras.layers.Normalization())\n",
    "model.add(MaxPooling2D(pool_size=2))\n",
    "model.add(Dropout(0.2))\n",
    "\n",
    "model.add(Conv2D(filters=80, kernel_size=(3,3), padding='same'))\n",
    "model.add(Conv2D(filters=32, kernel_size=(2,2), padding='same'))\n",
    "model.add(tf.keras.layers.MaxPooling2D(pool_size=3))\n",
    "\n",
    "model.add(tf.keras.layers.Normalization())\n",
    "\n",
    "model.add(Flatten())\n",
    "model.add(Dense(64))\n",
    "model.add(Dense(48))\n",
    "model.add(Dense(16))\n",
    "model.add(Dense(4, activation='sigmoid'))\n",
    "original_image_size = (width,height)\n",
    "model.summary()"
   ]
  },
  {
   "cell_type": "code",
   "execution_count": 26,
   "id": "4ce8e1fb",
   "metadata": {
    "scrolled": false
   },
   "outputs": [
    {
     "name": "stdout",
     "output_type": "stream",
     "text": [
      "Epoch 1/4\n",
      "1167/1167 [==============================] - 42s 35ms/step - loss: 2.1149 - precision: 0.4292 - recall: 0.3363 - val_loss: 0.4946 - val_precision: 0.4044 - val_recall: 0.7067\n",
      "Epoch 2/4\n",
      "1167/1167 [==============================] - 41s 35ms/step - loss: 0.3519 - precision: 0.6247 - recall: 0.4151 - val_loss: 0.3799 - val_precision: 0.5396 - val_recall: 0.5074\n",
      "Epoch 3/4\n",
      "1167/1167 [==============================] - 42s 36ms/step - loss: 0.3256 - precision: 0.6649 - recall: 0.4318 - val_loss: 0.3419 - val_precision: 0.5904 - val_recall: 0.5168\n",
      "Epoch 4/4\n",
      "1167/1167 [==============================] - 42s 36ms/step - loss: 0.3242 - precision: 0.6658 - recall: 0.4410 - val_loss: 0.3694 - val_precision: 0.5497 - val_recall: 0.5875\n",
      "47/47 [==============================] - 2s 39ms/step - loss: 0.3694 - precision: 0.5497 - recall: 0.5875\n"
     ]
    },
    {
     "data": {
      "text/plain": [
       "[0.3693610727787018, 0.549651563167572, 0.5875232815742493]"
      ]
     },
     "execution_count": 26,
     "metadata": {},
     "output_type": "execute_result"
    }
   ],
   "source": [
    "BATCH_SIZE = (6)\n",
    "model.compile(optimizer = 'adam',loss=\"binary_crossentropy\",metrics = [tf.keras.metrics.Precision(), tf.keras.metrics.Recall()])\n",
    "training_process = model.fit(X_train,y_train,epochs = (4),validation_data = (X_val,y_val),batch_size=BATCH_SIZE,shuffle = True)\n",
    "model.evaluate(X_val,y_val)"
   ]
  },
  {
   "cell_type": "code",
   "execution_count": 22,
   "id": "0b82065c",
   "metadata": {},
   "outputs": [
    {
     "name": "stdout",
     "output_type": "stream",
     "text": [
      "47/47 [==============================] - 2s 39ms/step - loss: 0.4426 - precision: 0.4646 - recall: 0.6350\n"
     ]
    },
    {
     "data": {
      "text/plain": [
       "[0.44264888763427734, 0.46457764506340027, 0.6350092887878418]"
      ]
     },
     "execution_count": 22,
     "metadata": {},
     "output_type": "execute_result"
    }
   ],
   "source": [
    "model.evaluate(X_val,y_val)"
   ]
  },
  {
   "cell_type": "code",
   "execution_count": 9,
   "id": "5c85fae8",
   "metadata": {},
   "outputs": [],
   "source": [
    "attr_data_path = \"list_attr_celeba.csv\"\n",
    "images_data_path = \"C:/Users/foreh/Documents/celeba/greyscale\"\n",
    "\n",
    "tf.keras.backend.clear_session()\n",
    "width = 178\n",
    "height = 218\n",
    "df_org = pd.read_csv(attr_data_path)\n",
    "\n",
    "df = df_org[190000:202600]\n",
    "df = df.replace(-1,0)\n",
    "#print(df.head(5))\n",
    "images_data = list()\n",
    "for idx in range(df.shape[0]):\n",
    "    path = \"{}/{}\".format(str(images_data_path),str(df.iloc[idx].image_id))\n",
    "    image = PIL.Image.open(path)\n",
    "    image_array = np.asarray(image)\n",
    "    images_data.append(image_array)\n",
    "images_data = np.array(images_data)\n",
    "def image_from_index(index, size=(width,height), path=images_data_path):\n",
    "    path = \"{}/{}\".format(str(path),str(df.iloc[index].image_id))\n",
    "    # to read the image\n",
    "    image = PIL.Image.open(path).resize(size)\n",
    "    image_array = np.asarray(image)\n",
    "\n",
    "    return image_array\n",
    "images = images_data # list of array of images\n",
    "labels = df[[\"image_id\", \"Bangs\", \"Straight_Hair\", \"Wavy_Hair\", \"Wearing_Hat\"]]  # dataframe of image features\n",
    "labels=labels.drop([\"image_id\"],axis=1)\n",
    "\n"
   ]
  },
  {
   "cell_type": "code",
   "execution_count": 10,
   "id": "d994f13b",
   "metadata": {},
   "outputs": [
    {
     "name": "stdout",
     "output_type": "stream",
     "text": [
      "394/394 [==============================] - 13s 32ms/step - loss: 0.3880 - precision_3: 0.5515 - recall_3: 0.5731 - binary_accuracy: 0.8283\n",
      "394/394 [==============================] - 13s 31ms/step - loss: 0.3325 - precision_4: 0.6671 - recall_4: 0.4531 - binary_accuracy: 0.8514\n",
      "394/394 [==============================] - 13s 31ms/step - loss: 0.3264 - precision_5: 0.7254 - recall_5: 0.4275 - binary_accuracy: 0.8588\n",
      "394/394 [==============================] - 13s 31ms/step - loss: 0.3864 - precision_6: 0.6459 - recall_6: 0.3524 - binary_accuracy: 0.8383\n",
      "394/394 [==============================] - 13s 31ms/step - loss: 0.3247 - precision_7: 0.6907 - recall_7: 0.4842 - binary_accuracy: 0.8591\n",
      "394/394 [==============================] - 13s 31ms/step - loss: 0.3117 - precision_8: 0.7387 - recall_8: 0.4521 - binary_accuracy: 0.8639\n",
      "394/394 [==============================] - 13s 31ms/step - loss: 0.3487 - precision_9: 0.6795 - recall_9: 0.3961 - binary_accuracy: 0.8480\n",
      "394/394 [==============================] - 13s 31ms/step - loss: 0.3303 - precision_10: 0.6891 - recall_10: 0.4642 - binary_accuracy: 0.8567\n",
      "394/394 [==============================] - 13s 31ms/step - loss: 0.3153 - precision_11: 0.7459 - recall_11: 0.4180 - binary_accuracy: 0.8607\n",
      "394/394 [==============================] - 13s 31ms/step - loss: 0.3485 - precision_12: 0.7123 - recall_12: 0.3293 - binary_accuracy: 0.8455\n",
      "394/394 [==============================] - 13s 31ms/step - loss: 0.3199 - precision_13: 0.6683 - recall_13: 0.5503 - binary_accuracy: 0.8610\n",
      "394/394 [==============================] - 13s 32ms/step - loss: 0.3117 - precision_14: 0.7087 - recall_14: 0.5087 - binary_accuracy: 0.8653\n",
      "394/394 [==============================] - 13s 32ms/step - loss: 0.3368 - precision_15: 0.7484 - recall_15: 0.3394 - binary_accuracy: 0.8510\n",
      "394/394 [==============================] - 13s 32ms/step - loss: 0.3458 - precision_16: 0.7034 - recall_16: 0.4474 - binary_accuracy: 0.8575\n",
      "394/394 [==============================] - 13s 32ms/step - loss: 0.3277 - precision_17: 0.7059 - recall_17: 0.4800 - binary_accuracy: 0.8616\n",
      "394/394 [==============================] - 13s 32ms/step - loss: 0.3109 - precision: 0.7384 - recall: 0.4672 - binary_accuracy: 0.8657\n",
      "394/394 [==============================] - 13s 32ms/step - loss: 0.2993 - precision: 0.7322 - recall: 0.4961 - binary_accuracy: 0.8682\n",
      "394/394 [==============================] - 13s 32ms/step - loss: 0.3009 - precision: 0.7161 - recall: 0.5216 - binary_accuracy: 0.8682\n"
     ]
    }
   ],
   "source": [
    "for i in range(1, 19):\n",
    "    tf.keras.backend.clear_session()\n",
    "    model1 = tf.keras.models.load_model('cnn8_checkpoints/iter'+str(i))\n",
    "    model1.evaluate(images,labels)"
   ]
  },
  {
   "cell_type": "code",
   "execution_count": null,
   "id": "2d0b5e51",
   "metadata": {},
   "outputs": [],
   "source": []
  }
 ],
 "metadata": {
  "kernelspec": {
   "display_name": "Python 3 (ipykernel)",
   "language": "python",
   "name": "python3"
  },
  "language_info": {
   "codemirror_mode": {
    "name": "ipython",
    "version": 3
   },
   "file_extension": ".py",
   "mimetype": "text/x-python",
   "name": "python",
   "nbconvert_exporter": "python",
   "pygments_lexer": "ipython3",
   "version": "3.9.7"
  }
 },
 "nbformat": 4,
 "nbformat_minor": 5
}
