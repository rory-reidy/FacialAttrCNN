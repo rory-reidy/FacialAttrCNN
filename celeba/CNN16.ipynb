{
 "cells": [
  {
   "cell_type": "code",
   "execution_count": 1,
   "id": "472eedd8",
   "metadata": {},
   "outputs": [],
   "source": [
    "import numpy as np\n",
    "import pandas as pd\n",
    "import PIL\n",
    "import matplotlib.patches as patches\n",
    "import matplotlib.pyplot as plt\n",
    "import tensorflow as tf\n",
    "from sklearn.model_selection import train_test_split\n",
    "from tensorflow.keras.models import Sequential\n",
    "from tensorflow.keras.layers import Dense,Dropout,Flatten,Conv2D,MaxPooling2D\n",
    "from tensorflow.keras.preprocessing import image"
   ]
  },
  {
   "cell_type": "code",
   "execution_count": 9,
   "id": "610903cb",
   "metadata": {},
   "outputs": [
    {
     "name": "stdout",
     "output_type": "stream",
     "text": [
      "Samples Training Set: 7000\n",
      "Batch size: 5\n",
      "ADAM\n",
      "Epoch 1/5\n",
      "1400/1400 [==============================] - 32s 22ms/step - loss: 0.6020 - precision: 0.7125 - recall: 0.6907 - binary_accuracy: 0.6790 - val_loss: 0.5411 - val_precision: 0.7782 - val_recall: 0.7386 - val_binary_accuracy: 0.7373\n",
      "Epoch 2/5\n",
      "1400/1400 [==============================] - 31s 22ms/step - loss: 0.5397 - precision: 0.7562 - recall: 0.7601 - binary_accuracy: 0.7353 - val_loss: 0.4809 - val_precision: 0.7769 - val_recall: 0.8341 - val_binary_accuracy: 0.7743\n",
      "Epoch 3/5\n",
      "1400/1400 [==============================] - 31s 22ms/step - loss: 0.4881 - precision: 0.7823 - recall: 0.8135 - binary_accuracy: 0.7746 - val_loss: 0.4536 - val_precision: 0.8016 - val_recall: 0.8180 - val_binary_accuracy: 0.7860\n",
      "Epoch 4/5\n",
      "1400/1400 [==============================] - 31s 22ms/step - loss: 0.4765 - precision: 0.7890 - recall: 0.8174 - binary_accuracy: 0.7810 - val_loss: 0.4694 - val_precision: 0.7929 - val_recall: 0.8446 - val_binary_accuracy: 0.7907\n",
      "Epoch 5/5\n",
      "1400/1400 [==============================] - 31s 22ms/step - loss: 0.4607 - precision: 0.7949 - recall: 0.8286 - binary_accuracy: 0.7897 - val_loss: 0.4263 - val_precision: 0.8014 - val_recall: 0.8760 - val_binary_accuracy: 0.8102\n",
      "47/47 [==============================] - 2s 32ms/step - loss: 0.4263 - precision: 0.8014 - recall: 0.8760 - binary_accuracy: 0.8102\n"
     ]
    }
   ],
   "source": [
    "attr_data_path = \"list_attr_celeba.csv\"\n",
    "images_data_path = \"C:/Users/foreh/Documents/celeba/greyscale\"\n",
    "images_data_size = 10000 \n",
    "df_org = pd.read_csv(attr_data_path)\n",
    "\n",
    "tf.keras.backend.clear_session()\n",
    "width = 178\n",
    "height = 218\n",
    "x_ = 100                            # new value of x\n",
    "image_size_ratio = width / height    # dimensions ratio\n",
    "y_ = int(image_size_ratio * x_)  \n",
    "model = tf.keras.models.load_model('cnn16/iter1')\n",
    "original_image_size = (width, height)\n",
    "df = df_org[images_data_size:2*images_data_size]\n",
    "df = df.replace(-1,0)\n",
    "#print(df.head(5))\n",
    "images_data = list()\n",
    "for idx in range(df.shape[0]):\n",
    "    path = \"{}/{}\".format(str(images_data_path),str(df.iloc[idx].image_id))\n",
    "    image = PIL.Image.open(path)\n",
    "    image_array = np.asarray(image)\n",
    "    images_data.append(image_array)\n",
    "images_data = np.array(images_data)\n",
    "def image_from_index(index, size=(original_image_size), path=images_data_path):\n",
    "    path = \"{}/{}\".format(str(path),str(df.iloc[index].image_id))\n",
    "    # to read the image\n",
    "    image = PIL.Image.open(path).resize(size)\n",
    "    image_array = np.asarray(image)\n",
    "\n",
    "    return image_array\n",
    "images = images_data # list of array of images\n",
    "labels = df[[\"image_id\", \"Male\", \"Young\", \"Attractive\", \"Smiling\"]]  # dataframe of image features\n",
    "train_images,test_images,train_labels,test_labels = train_test_split(images,labels,test_size=0.3,random_state=(2))\n",
    "y_test=test_labels.drop([\"image_id\"],axis=1)\n",
    "y_train=train_labels.drop([\"image_id\"],axis=1)\n",
    "\n",
    "X_test=test_images\n",
    "X_train=train_images\n",
    "#X_train = tf.expand_dims(X_train, axis=-1)\n",
    "print(\"Samples Training Set:\",len(X_train))\n",
    "X_test, X_val, y_test, y_val=train_test_split(X_test, y_test,test_size=0.5,random_state=(3))\n",
    "x_ = original_image_size[0]\n",
    "y_ = original_image_size[1]\n",
    "BATCH_SIZE = (5)\n",
    "print(\"Batch size: \" + str(BATCH_SIZE))\n",
    "if False:\n",
    "      print(\"SGD\")\n",
    "      opt = tf.keras.optimizers.SGD(learning_rate=0.003)\n",
    "      model.compile(optimizer = opt,loss=\"binary_crossentropy\",metrics = [tf.keras.metrics.Precision(), tf.keras.metrics.Recall(), 'binary_accuracy'])\n",
    "else:\n",
    "      print(\"ADAM\")\n",
    "      opt = tf.keras.optimizers.Adam(learning_rate=0.003)\n",
    "      model.compile(optimizer = opt,loss=\"binary_crossentropy\",metrics = [tf.keras.metrics.Precision(), tf.keras.metrics.Recall(), 'binary_accuracy'])\n",
    "training_process = model.fit(X_train,y_train,epochs = (5),validation_data = (X_val,y_val),batch_size=BATCH_SIZE,shuffle = True)\n",
    "\n",
    "model.evaluate(X_val,y_val)\n",
    "tf.keras.backend.clear_session()"
   ]
  },
  {
   "cell_type": "code",
   "execution_count": 10,
   "id": "83e93ee5",
   "metadata": {},
   "outputs": [
    {
     "name": "stdout",
     "output_type": "stream",
     "text": [
      "INFO:tensorflow:Assets written to: cnn16/commonclasses1\\assets\n"
     ]
    }
   ],
   "source": [
    "model.save('cnn16/commonclasses1')"
   ]
  },
  {
   "cell_type": "code",
   "execution_count": 9,
   "id": "5c85fae8",
   "metadata": {},
   "outputs": [],
   "source": [
    "attr_data_path = \"list_attr_celeba.csv\"\n",
    "images_data_path = \"C:/Users/foreh/Documents/celeba/greyscale\"\n",
    "\n",
    "tf.keras.backend.clear_session()\n",
    "width = 178\n",
    "height = 218\n",
    "df_org = pd.read_csv(attr_data_path)\n",
    "\n",
    "df = df_org[190000:202600]\n",
    "df = df.replace(-1,0)\n",
    "#print(df.head(5))\n",
    "images_data = list()\n",
    "for idx in range(df.shape[0]):\n",
    "    path = \"{}/{}\".format(str(images_data_path),str(df.iloc[idx].image_id))\n",
    "    image = PIL.Image.open(path)\n",
    "    image_array = np.asarray(image)\n",
    "    images_data.append(image_array)\n",
    "images_data = np.array(images_data)\n",
    "def image_from_index(index, size=(width,height), path=images_data_path):\n",
    "    path = \"{}/{}\".format(str(path),str(df.iloc[index].image_id))\n",
    "    # to read the image\n",
    "    image = PIL.Image.open(path).resize(size)\n",
    "    image_array = np.asarray(image)\n",
    "\n",
    "    return image_array\n",
    "images = images_data # list of array of images\n",
    "labels = df[[\"image_id\", \"Bangs\", \"Straight_Hair\", \"Wavy_Hair\", \"Wearing_Hat\"]]  # dataframe of image features\n",
    "labels=labels.drop([\"image_id\"],axis=1)\n",
    "\n"
   ]
  },
  {
   "cell_type": "code",
   "execution_count": 10,
   "id": "d994f13b",
   "metadata": {},
   "outputs": [
    {
     "name": "stdout",
     "output_type": "stream",
     "text": [
      "394/394 [==============================] - 13s 32ms/step - loss: 0.3880 - precision_3: 0.5515 - recall_3: 0.5731 - binary_accuracy: 0.8283\n",
      "394/394 [==============================] - 13s 31ms/step - loss: 0.3325 - precision_4: 0.6671 - recall_4: 0.4531 - binary_accuracy: 0.8514\n",
      "394/394 [==============================] - 13s 31ms/step - loss: 0.3264 - precision_5: 0.7254 - recall_5: 0.4275 - binary_accuracy: 0.8588\n",
      "394/394 [==============================] - 13s 31ms/step - loss: 0.3864 - precision_6: 0.6459 - recall_6: 0.3524 - binary_accuracy: 0.8383\n",
      "394/394 [==============================] - 13s 31ms/step - loss: 0.3247 - precision_7: 0.6907 - recall_7: 0.4842 - binary_accuracy: 0.8591\n",
      "394/394 [==============================] - 13s 31ms/step - loss: 0.3117 - precision_8: 0.7387 - recall_8: 0.4521 - binary_accuracy: 0.8639\n",
      "394/394 [==============================] - 13s 31ms/step - loss: 0.3487 - precision_9: 0.6795 - recall_9: 0.3961 - binary_accuracy: 0.8480\n",
      "394/394 [==============================] - 13s 31ms/step - loss: 0.3303 - precision_10: 0.6891 - recall_10: 0.4642 - binary_accuracy: 0.8567\n",
      "394/394 [==============================] - 13s 31ms/step - loss: 0.3153 - precision_11: 0.7459 - recall_11: 0.4180 - binary_accuracy: 0.8607\n",
      "394/394 [==============================] - 13s 31ms/step - loss: 0.3485 - precision_12: 0.7123 - recall_12: 0.3293 - binary_accuracy: 0.8455\n",
      "394/394 [==============================] - 13s 31ms/step - loss: 0.3199 - precision_13: 0.6683 - recall_13: 0.5503 - binary_accuracy: 0.8610\n",
      "394/394 [==============================] - 13s 32ms/step - loss: 0.3117 - precision_14: 0.7087 - recall_14: 0.5087 - binary_accuracy: 0.8653\n",
      "394/394 [==============================] - 13s 32ms/step - loss: 0.3368 - precision_15: 0.7484 - recall_15: 0.3394 - binary_accuracy: 0.8510\n",
      "394/394 [==============================] - 13s 32ms/step - loss: 0.3458 - precision_16: 0.7034 - recall_16: 0.4474 - binary_accuracy: 0.8575\n",
      "394/394 [==============================] - 13s 32ms/step - loss: 0.3277 - precision_17: 0.7059 - recall_17: 0.4800 - binary_accuracy: 0.8616\n",
      "394/394 [==============================] - 13s 32ms/step - loss: 0.3109 - precision: 0.7384 - recall: 0.4672 - binary_accuracy: 0.8657\n",
      "394/394 [==============================] - 13s 32ms/step - loss: 0.2993 - precision: 0.7322 - recall: 0.4961 - binary_accuracy: 0.8682\n",
      "394/394 [==============================] - 13s 32ms/step - loss: 0.3009 - precision: 0.7161 - recall: 0.5216 - binary_accuracy: 0.8682\n"
     ]
    }
   ],
   "source": [
    "for i in range(1, 19):\n",
    "    tf.keras.backend.clear_session()\n",
    "    model1 = tf.keras.models.load_model('cnn8_checkpoints/iter'+str(i))\n",
    "    model1.evaluate(images,labels)"
   ]
  },
  {
   "cell_type": "code",
   "execution_count": null,
   "id": "2d0b5e51",
   "metadata": {},
   "outputs": [],
   "source": []
  }
 ],
 "metadata": {
  "kernelspec": {
   "display_name": "Python 3 (ipykernel)",
   "language": "python",
   "name": "python3"
  },
  "language_info": {
   "codemirror_mode": {
    "name": "ipython",
    "version": 3
   },
   "file_extension": ".py",
   "mimetype": "text/x-python",
   "name": "python",
   "nbconvert_exporter": "python",
   "pygments_lexer": "ipython3",
   "version": "3.9.7"
  }
 },
 "nbformat": 4,
 "nbformat_minor": 5
}
