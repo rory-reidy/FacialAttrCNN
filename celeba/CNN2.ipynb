{
 "cells": [
  {
   "cell_type": "code",
   "execution_count": 1,
   "id": "472eedd8",
   "metadata": {},
   "outputs": [],
   "source": [
    "import numpy as np\n",
    "import pandas as pd\n",
    "import PIL\n",
    "import matplotlib.patches as patches\n",
    "import matplotlib.pyplot as plt\n",
    "import tensorflow as tf\n",
    "from sklearn.model_selection import train_test_split\n",
    "from tensorflow.keras.models import Sequential\n",
    "from tensorflow.keras.layers import Dense,Dropout,Flatten,Conv2D,MaxPooling2D\n",
    "from tensorflow.keras.preprocessing import image"
   ]
  },
  {
   "cell_type": "code",
   "execution_count": 51,
   "id": "610903cb",
   "metadata": {
    "scrolled": true
   },
   "outputs": [
    {
     "name": "stdout",
     "output_type": "stream",
     "text": [
      "model loaded: iter1\n",
      "training model 2\n",
      "Samples Training Set: 6999\n",
      "Samples in Validation Data: 1500\n",
      "Samples in Test Data: 1500\n",
      "Epoch 1/5\n",
      "1400/1400 [==============================] - 29s 20ms/step - loss: 0.3549 - precision_10: 0.6507 - recall_9: 0.3033 - categorical_accuracy: 0.4125 - val_loss: 0.3456 - val_precision_10: 0.7322 - val_recall_9: 0.2764 - val_categorical_accuracy: 0.4780\n",
      "Epoch 2/5\n",
      "1400/1400 [==============================] - 28s 20ms/step - loss: 0.3430 - precision_10: 0.6826 - recall_9: 0.3203 - categorical_accuracy: 0.4258 - val_loss: 0.3356 - val_precision_10: 0.6672 - val_recall_9: 0.3980 - val_categorical_accuracy: 0.4720\n",
      "Epoch 3/5\n",
      "1400/1400 [==============================] - 30s 21ms/step - loss: 0.3368 - precision_10: 0.6718 - recall_9: 0.3342 - categorical_accuracy: 0.4299 - val_loss: 0.3596 - val_precision_10: 0.7696 - val_recall_9: 0.1315 - val_categorical_accuracy: 0.3960\n",
      "Epoch 4/5\n",
      "1400/1400 [==============================] - 31s 22ms/step - loss: 0.3304 - precision_10: 0.6915 - recall_9: 0.3451 - categorical_accuracy: 0.4362 - val_loss: 0.3296 - val_precision_10: 0.7802 - val_recall_9: 0.2889 - val_categorical_accuracy: 0.4573\n",
      "Epoch 5/5\n",
      "1400/1400 [==============================] - 31s 22ms/step - loss: 0.3278 - precision_10: 0.7086 - recall_9: 0.3512 - categorical_accuracy: 0.4415 - val_loss: 0.3304 - val_precision_10: 0.7962 - val_recall_9: 0.3005 - val_categorical_accuracy: 0.4447\n",
      "INFO:tensorflow:Assets written to: checkpoints/iter2\\assets\n",
      "model loaded: iter2\n",
      "training model 3\n",
      "Samples Training Set: 6999\n",
      "Samples in Validation Data: 1500\n",
      "Samples in Test Data: 1500\n",
      "Epoch 1/5\n",
      "1400/1400 [==============================] - 31s 21ms/step - loss: 0.3444 - precision_11: 0.6906 - recall_10: 0.3474 - categorical_accuracy: 0.4491 - val_loss: 0.3339 - val_precision_11: 0.7319 - val_recall_10: 0.3058 - val_categorical_accuracy: 0.4727\n",
      "Epoch 2/5\n",
      "1400/1400 [==============================] - 32s 23ms/step - loss: 0.3301 - precision_11: 0.6966 - recall_10: 0.3683 - categorical_accuracy: 0.4632 - val_loss: 0.3236 - val_precision_11: 0.6906 - val_recall_10: 0.4674 - val_categorical_accuracy: 0.4727\n",
      "Epoch 3/5\n",
      "1400/1400 [==============================] - 32s 23ms/step - loss: 0.3232 - precision_11: 0.7074 - recall_10: 0.3933 - categorical_accuracy: 0.4651 - val_loss: 0.3378 - val_precision_11: 0.6277 - val_recall_10: 0.5078 - val_categorical_accuracy: 0.4607\n",
      "Epoch 4/5\n",
      "1400/1400 [==============================] - 33s 23ms/step - loss: 0.3222 - precision_11: 0.7069 - recall_10: 0.4054 - categorical_accuracy: 0.4651 - val_loss: 0.3612 - val_precision_11: 0.5985 - val_recall_10: 0.5271 - val_categorical_accuracy: 0.4760\n",
      "Epoch 5/5\n",
      "1400/1400 [==============================] - 32s 23ms/step - loss: 0.3186 - precision_11: 0.7088 - recall_10: 0.4109 - categorical_accuracy: 0.4675 - val_loss: 0.3183 - val_precision_11: 0.6891 - val_recall_10: 0.4233 - val_categorical_accuracy: 0.4747\n",
      "INFO:tensorflow:Assets written to: checkpoints/iter3\\assets\n",
      "model loaded: iter3\n",
      "training model 4\n",
      "Samples Training Set: 6999\n",
      "Samples in Validation Data: 1500\n",
      "Samples in Test Data: 1500\n",
      "Epoch 1/5\n",
      "1400/1400 [==============================] - 30s 21ms/step - loss: 0.3260 - precision_12: 0.7115 - recall_11: 0.3786 - categorical_accuracy: 0.4498 - val_loss: 0.3291 - val_precision_12: 0.6859 - val_recall_11: 0.4960 - val_categorical_accuracy: 0.4627\n",
      "Epoch 2/5\n",
      "1400/1400 [==============================] - 29s 21ms/step - loss: 0.3187 - precision_12: 0.7285 - recall_11: 0.3926 - categorical_accuracy: 0.4612 - val_loss: 0.3393 - val_precision_12: 0.6571 - val_recall_11: 0.4862 - val_categorical_accuracy: 0.4340\n",
      "Epoch 3/5\n",
      "1400/1400 [==============================] - 29s 20ms/step - loss: 0.3153 - precision_12: 0.7243 - recall_11: 0.4042 - categorical_accuracy: 0.4572 - val_loss: 0.3367 - val_precision_12: 0.7232 - val_recall_11: 0.3177 - val_categorical_accuracy: 0.4413\n",
      "Epoch 4/5\n",
      "1400/1400 [==============================] - 28s 20ms/step - loss: 0.3105 - precision_12: 0.7366 - recall_11: 0.4093 - categorical_accuracy: 0.4644 - val_loss: 0.3182 - val_precision_12: 0.7083 - val_recall_11: 0.4330 - val_categorical_accuracy: 0.4687\n",
      "Epoch 5/5\n",
      "1400/1400 [==============================] - 28s 20ms/step - loss: 0.3107 - precision_12: 0.7287 - recall_11: 0.4097 - categorical_accuracy: 0.4635 - val_loss: 0.3266 - val_precision_12: 0.8159 - val_recall_11: 0.2831 - val_categorical_accuracy: 0.4853\n",
      "INFO:tensorflow:Assets written to: checkpoints/iter4\\assets\n",
      "model loaded: iter4\n",
      "training model 5\n",
      "Samples Training Set: 6999\n",
      "Samples in Validation Data: 1500\n",
      "Samples in Test Data: 1500\n",
      "Epoch 1/5\n",
      "1400/1400 [==============================] - 29s 20ms/step - loss: 0.3214 - precision_13: 0.7115 - recall_12: 0.3828 - categorical_accuracy: 0.4519 - val_loss: 0.3153 - val_precision_13: 0.8207 - val_recall_12: 0.2686 - val_categorical_accuracy: 0.4880\n",
      "Epoch 2/5\n",
      "1400/1400 [==============================] - 28s 20ms/step - loss: 0.3127 - precision_13: 0.7182 - recall_12: 0.4029 - categorical_accuracy: 0.4642 - val_loss: 0.3124 - val_precision_13: 0.7586 - val_recall_12: 0.3859 - val_categorical_accuracy: 0.4593\n",
      "Epoch 3/5\n",
      "1400/1400 [==============================] - 28s 20ms/step - loss: 0.3089 - precision_13: 0.7188 - recall_12: 0.4182 - categorical_accuracy: 0.4678 - val_loss: 0.3174 - val_precision_13: 0.7895 - val_recall_12: 0.3162 - val_categorical_accuracy: 0.4467\n",
      "Epoch 4/5\n",
      "1400/1400 [==============================] - 28s 20ms/step - loss: 0.3042 - precision_13: 0.7221 - recall_12: 0.4211 - categorical_accuracy: 0.4746 - val_loss: 0.3071 - val_precision_13: 0.7147 - val_recall_12: 0.4500 - val_categorical_accuracy: 0.4813\n",
      "Epoch 5/5\n",
      "1400/1400 [==============================] - 28s 20ms/step - loss: 0.3020 - precision_13: 0.7202 - recall_12: 0.4272 - categorical_accuracy: 0.4688 - val_loss: 0.3256 - val_precision_13: 0.6816 - val_recall_12: 0.4042 - val_categorical_accuracy: 0.4473\n",
      "INFO:tensorflow:Assets written to: checkpoints/iter5\\assets\n",
      "model loaded: iter5\n",
      "training model 6\n",
      "Samples Training Set: 6999\n",
      "Samples in Validation Data: 1500\n",
      "Samples in Test Data: 1500\n",
      "Epoch 1/5\n",
      "1400/1400 [==============================] - 28s 19ms/step - loss: 0.3186 - precision_14: 0.7060 - recall_13: 0.3569 - categorical_accuracy: 0.4524 - val_loss: 0.3071 - val_precision_14: 0.7513 - val_recall_13: 0.4025 - val_categorical_accuracy: 0.4707\n",
      "Epoch 2/5\n",
      "1400/1400 [==============================] - 27s 19ms/step - loss: 0.3106 - precision_14: 0.7067 - recall_13: 0.3782 - categorical_accuracy: 0.4614 - val_loss: 0.3088 - val_precision_14: 0.7394 - val_recall_13: 0.4270 - val_categorical_accuracy: 0.4913\n",
      "Epoch 3/5\n",
      "1400/1400 [==============================] - 27s 19ms/step - loss: 0.3055 - precision_14: 0.7127 - recall_13: 0.3944 - categorical_accuracy: 0.4618 - val_loss: 0.3127 - val_precision_14: 0.7748 - val_recall_13: 0.3119 - val_categorical_accuracy: 0.4587\n",
      "Epoch 4/5\n",
      "1400/1400 [==============================] - 27s 19ms/step - loss: 0.3069 - precision_14: 0.7093 - recall_13: 0.3914 - categorical_accuracy: 0.4654 - val_loss: 0.3289 - val_precision_14: 0.6500 - val_recall_13: 0.5422 - val_categorical_accuracy: 0.4953\n",
      "Epoch 5/5\n",
      "1400/1400 [==============================] - 27s 20ms/step - loss: 0.3007 - precision_14: 0.7266 - recall_13: 0.4081 - categorical_accuracy: 0.4612 - val_loss: 0.3218 - val_precision_14: 0.7322 - val_recall_13: 0.3917 - val_categorical_accuracy: 0.4593\n",
      "INFO:tensorflow:Assets written to: checkpoints/iter6\\assets\n",
      "model loaded: iter6\n",
      "training model 7\n",
      "Samples Training Set: 6999\n",
      "Samples in Validation Data: 1500\n",
      "Samples in Test Data: 1500\n",
      "Epoch 1/5\n",
      "1400/1400 [==============================] - 28s 20ms/step - loss: 0.3157 - precision_15: 0.7179 - recall_14: 0.3999 - categorical_accuracy: 0.4541 - val_loss: 0.3087 - val_precision_15: 0.7434 - val_recall_14: 0.3476 - val_categorical_accuracy: 0.4213\n",
      "Epoch 2/5\n",
      "1400/1400 [==============================] - 27s 19ms/step - loss: 0.3112 - precision_15: 0.7184 - recall_14: 0.4070 - categorical_accuracy: 0.4565 - val_loss: 0.3099 - val_precision_15: 0.6966 - val_recall_14: 0.3914 - val_categorical_accuracy: 0.4393\n",
      "Epoch 3/5\n"
     ]
    },
    {
     "name": "stdout",
     "output_type": "stream",
     "text": [
      "1400/1400 [==============================] - 27s 20ms/step - loss: 0.3095 - precision_15: 0.7285 - recall_14: 0.4070 - categorical_accuracy: 0.4602 - val_loss: 0.2982 - val_precision_15: 0.6905 - val_recall_14: 0.4590 - val_categorical_accuracy: 0.4440\n",
      "Epoch 4/5\n",
      "1400/1400 [==============================] - 27s 20ms/step - loss: 0.3035 - precision_15: 0.7296 - recall_14: 0.4284 - categorical_accuracy: 0.4651 - val_loss: 0.3148 - val_precision_15: 0.6630 - val_recall_14: 0.4610 - val_categorical_accuracy: 0.4747\n",
      "Epoch 5/5\n",
      "1400/1400 [==============================] - 27s 20ms/step - loss: 0.3025 - precision_15: 0.7249 - recall_14: 0.4193 - categorical_accuracy: 0.4578 - val_loss: 0.3147 - val_precision_15: 0.7269 - val_recall_14: 0.3752 - val_categorical_accuracy: 0.4120\n",
      "INFO:tensorflow:Assets written to: checkpoints/iter7\\assets\n",
      "model loaded: iter7\n",
      "training model 8\n",
      "Samples Training Set: 6999\n",
      "Samples in Validation Data: 1500\n",
      "Samples in Test Data: 1500\n",
      "Epoch 1/5\n",
      "1400/1400 [==============================] - 28s 20ms/step - loss: 0.3132 - precision_16: 0.7108 - recall_15: 0.4004 - categorical_accuracy: 0.4602 - val_loss: 0.3235 - val_precision_16: 0.7381 - val_recall_15: 0.3836 - val_categorical_accuracy: 0.4567\n",
      "Epoch 2/5\n",
      "1400/1400 [==============================] - 27s 20ms/step - loss: 0.3065 - precision_16: 0.7155 - recall_15: 0.4171 - categorical_accuracy: 0.4658 - val_loss: 0.3126 - val_precision_16: 0.7883 - val_recall_15: 0.3358 - val_categorical_accuracy: 0.4473\n",
      "Epoch 3/5\n",
      "1400/1400 [==============================] - 28s 20ms/step - loss: 0.3028 - precision_16: 0.7179 - recall_15: 0.4220 - categorical_accuracy: 0.4675 - val_loss: 0.3092 - val_precision_16: 0.7258 - val_recall_15: 0.3799 - val_categorical_accuracy: 0.4587\n",
      "Epoch 4/5\n",
      "1400/1400 [==============================] - 27s 20ms/step - loss: 0.2972 - precision_16: 0.7239 - recall_15: 0.4410 - categorical_accuracy: 0.4788 - val_loss: 0.3113 - val_precision_16: 0.7215 - val_recall_15: 0.3836 - val_categorical_accuracy: 0.4540\n",
      "Epoch 5/5\n",
      "1400/1400 [==============================] - 28s 20ms/step - loss: 0.2982 - precision_16: 0.7149 - recall_15: 0.4345 - categorical_accuracy: 0.4738 - val_loss: 0.3248 - val_precision_16: 0.7317 - val_recall_15: 0.2935 - val_categorical_accuracy: 0.4633\n",
      "INFO:tensorflow:Assets written to: checkpoints/iter8\\assets\n",
      "model loaded: iter8\n",
      "training model 9\n",
      "Samples Training Set: 6999\n",
      "Samples in Validation Data: 1500\n",
      "Samples in Test Data: 1500\n",
      "Epoch 1/5\n",
      "1400/1400 [==============================] - 28s 20ms/step - loss: 0.3120 - precision_17: 0.7097 - recall_16: 0.3896 - categorical_accuracy: 0.4578 - val_loss: 0.2946 - val_precision_17: 0.7945 - val_recall_16: 0.3937 - val_categorical_accuracy: 0.4907\n",
      "Epoch 2/5\n",
      "1400/1400 [==============================] - 27s 20ms/step - loss: 0.3055 - precision_17: 0.7097 - recall_16: 0.4101 - categorical_accuracy: 0.4659 - val_loss: 0.3073 - val_precision_17: 0.6449 - val_recall_16: 0.5171 - val_categorical_accuracy: 0.4893\n",
      "Epoch 3/5\n",
      "1400/1400 [==============================] - 28s 20ms/step - loss: 0.3004 - precision_17: 0.7142 - recall_16: 0.4182 - categorical_accuracy: 0.4688 - val_loss: 0.3012 - val_precision_17: 0.6500 - val_recall_16: 0.5739 - val_categorical_accuracy: 0.4940\n",
      "Epoch 4/5\n",
      "1400/1400 [==============================] - 27s 20ms/step - loss: 0.2974 - precision_17: 0.7228 - recall_16: 0.4357 - categorical_accuracy: 0.4692 - val_loss: 0.3205 - val_precision_17: 0.6270 - val_recall_16: 0.5784 - val_categorical_accuracy: 0.4973\n",
      "Epoch 5/5\n",
      "1400/1400 [==============================] - 27s 19ms/step - loss: 0.2937 - precision_17: 0.7283 - recall_16: 0.4481 - categorical_accuracy: 0.4812 - val_loss: 0.3027 - val_precision_17: 0.7010 - val_recall_16: 0.4964 - val_categorical_accuracy: 0.4833\n",
      "INFO:tensorflow:Assets written to: checkpoints/iter9\\assets\n",
      "model loaded: iter9\n",
      "training model 10\n",
      "Samples Training Set: 6999\n",
      "Samples in Validation Data: 1500\n",
      "Samples in Test Data: 1500\n",
      "Epoch 1/5\n",
      "1400/1400 [==============================] - 28s 19ms/step - loss: 0.3073 - precision_18: 0.7152 - recall_17: 0.4134 - categorical_accuracy: 0.4559 - val_loss: 0.3108 - val_precision_18: 0.7068 - val_recall_17: 0.4198 - val_categorical_accuracy: 0.4620\n",
      "Epoch 2/5\n",
      "1400/1400 [==============================] - 27s 19ms/step - loss: 0.3017 - precision_18: 0.7210 - recall_17: 0.4224 - categorical_accuracy: 0.4601 - val_loss: 0.3090 - val_precision_18: 0.7338 - val_recall_17: 0.3841 - val_categorical_accuracy: 0.4860\n",
      "Epoch 3/5\n",
      "1400/1400 [==============================] - 27s 20ms/step - loss: 0.2968 - precision_18: 0.7283 - recall_17: 0.4402 - categorical_accuracy: 0.4669 - val_loss: 0.3538 - val_precision_18: 0.7246 - val_recall_17: 0.2484 - val_categorical_accuracy: 0.4293\n",
      "Epoch 4/5\n",
      "1400/1400 [==============================] - 27s 20ms/step - loss: 0.2942 - precision_18: 0.7315 - recall_17: 0.4486 - categorical_accuracy: 0.4675 - val_loss: 0.3082 - val_precision_18: 0.7612 - val_recall_17: 0.3593 - val_categorical_accuracy: 0.4613\n",
      "Epoch 5/5\n",
      "1400/1400 [==============================] - 28s 20ms/step - loss: 0.2887 - precision_18: 0.7390 - recall_17: 0.4543 - categorical_accuracy: 0.4719 - val_loss: 0.3107 - val_precision_18: 0.6746 - val_recall_17: 0.4143 - val_categorical_accuracy: 0.4680\n",
      "INFO:tensorflow:Assets written to: checkpoints/iter10\\assets\n",
      "model loaded: iter10\n",
      "training model 11\n"
     ]
    },
    {
     "ename": "KeyboardInterrupt",
     "evalue": "",
     "output_type": "error",
     "traceback": [
      "\u001b[1;31m---------------------------------------------------------------------------\u001b[0m",
      "\u001b[1;31mKeyboardInterrupt\u001b[0m                         Traceback (most recent call last)",
      "\u001b[1;32m~\\AppData\\Local\\Temp/ipykernel_2824/4217344360.py\u001b[0m in \u001b[0;36m<module>\u001b[1;34m\u001b[0m\n\u001b[0;32m     49\u001b[0m     \u001b[1;32mfor\u001b[0m \u001b[0midx\u001b[0m \u001b[1;32min\u001b[0m \u001b[0mrange\u001b[0m\u001b[1;33m(\u001b[0m\u001b[0mdf\u001b[0m\u001b[1;33m.\u001b[0m\u001b[0mshape\u001b[0m\u001b[1;33m[\u001b[0m\u001b[1;36m0\u001b[0m\u001b[1;33m]\u001b[0m\u001b[1;33m)\u001b[0m\u001b[1;33m:\u001b[0m\u001b[1;33m\u001b[0m\u001b[1;33m\u001b[0m\u001b[0m\n\u001b[0;32m     50\u001b[0m         \u001b[0mpath\u001b[0m \u001b[1;33m=\u001b[0m \u001b[1;34m\"{}/{}\"\u001b[0m\u001b[1;33m.\u001b[0m\u001b[0mformat\u001b[0m\u001b[1;33m(\u001b[0m\u001b[0mstr\u001b[0m\u001b[1;33m(\u001b[0m\u001b[0mimages_data_path\u001b[0m\u001b[1;33m)\u001b[0m\u001b[1;33m,\u001b[0m\u001b[0mstr\u001b[0m\u001b[1;33m(\u001b[0m\u001b[0mdf\u001b[0m\u001b[1;33m.\u001b[0m\u001b[0miloc\u001b[0m\u001b[1;33m[\u001b[0m\u001b[0midx\u001b[0m\u001b[1;33m]\u001b[0m\u001b[1;33m.\u001b[0m\u001b[0mimage_id\u001b[0m\u001b[1;33m)\u001b[0m\u001b[1;33m)\u001b[0m\u001b[1;33m\u001b[0m\u001b[1;33m\u001b[0m\u001b[0m\n\u001b[1;32m---> 51\u001b[1;33m         \u001b[0mimage\u001b[0m \u001b[1;33m=\u001b[0m \u001b[0mPIL\u001b[0m\u001b[1;33m.\u001b[0m\u001b[0mImage\u001b[0m\u001b[1;33m.\u001b[0m\u001b[0mopen\u001b[0m\u001b[1;33m(\u001b[0m\u001b[0mpath\u001b[0m\u001b[1;33m)\u001b[0m\u001b[1;33m\u001b[0m\u001b[1;33m\u001b[0m\u001b[0m\n\u001b[0m\u001b[0;32m     52\u001b[0m         \u001b[0mimage_array\u001b[0m \u001b[1;33m=\u001b[0m \u001b[0mnp\u001b[0m\u001b[1;33m.\u001b[0m\u001b[0masarray\u001b[0m\u001b[1;33m(\u001b[0m\u001b[0mimage\u001b[0m\u001b[1;33m)\u001b[0m\u001b[1;33m\u001b[0m\u001b[1;33m\u001b[0m\u001b[0m\n\u001b[0;32m     53\u001b[0m         \u001b[0mimages_data\u001b[0m\u001b[1;33m.\u001b[0m\u001b[0mappend\u001b[0m\u001b[1;33m(\u001b[0m\u001b[0mimage_array\u001b[0m\u001b[1;33m)\u001b[0m\u001b[1;33m\u001b[0m\u001b[1;33m\u001b[0m\u001b[0m\n",
      "\u001b[1;32m~\\anaconda3\\lib\\site-packages\\PIL\\Image.py\u001b[0m in \u001b[0;36mopen\u001b[1;34m(fp, mode, formats)\u001b[0m\n\u001b[0;32m   2982\u001b[0m         \u001b[0mexclusive_fp\u001b[0m \u001b[1;33m=\u001b[0m \u001b[1;32mTrue\u001b[0m\u001b[1;33m\u001b[0m\u001b[1;33m\u001b[0m\u001b[0m\n\u001b[0;32m   2983\u001b[0m \u001b[1;33m\u001b[0m\u001b[0m\n\u001b[1;32m-> 2984\u001b[1;33m     \u001b[0mprefix\u001b[0m \u001b[1;33m=\u001b[0m \u001b[0mfp\u001b[0m\u001b[1;33m.\u001b[0m\u001b[0mread\u001b[0m\u001b[1;33m(\u001b[0m\u001b[1;36m16\u001b[0m\u001b[1;33m)\u001b[0m\u001b[1;33m\u001b[0m\u001b[1;33m\u001b[0m\u001b[0m\n\u001b[0m\u001b[0;32m   2985\u001b[0m \u001b[1;33m\u001b[0m\u001b[0m\n\u001b[0;32m   2986\u001b[0m     \u001b[0mpreinit\u001b[0m\u001b[1;33m(\u001b[0m\u001b[1;33m)\u001b[0m\u001b[1;33m\u001b[0m\u001b[1;33m\u001b[0m\u001b[0m\n",
      "\u001b[1;31mKeyboardInterrupt\u001b[0m: "
     ]
    }
   ],
   "source": [
    "attr_data_path = \"list_attr_celeba.csv\"\n",
    "images_data_path = \"C:/Users/foreh/Documents/celeba/greyscale\"\n",
    "images_data_size = 10000 \n",
    "\n",
    "width = 178\n",
    "height = 218\n",
    "x_ = 100                            # new value of x\n",
    "image_size_ratio = width / height    # dimensions ratio\n",
    "y_ = int(image_size_ratio * x_)  \n",
    "model = Sequential()\n",
    "model.add(tf.keras.Input(shape=(height, width,1)))\n",
    "model.add(tf.keras.layers.Normalization())\n",
    "model.add(Conv2D(filters=32,kernel_size=(3,3),padding = 'same'))\n",
    "model.add(Conv2D(filters=8, kernel_size=(3,3), padding='same'))\n",
    "## changed from (5,5)->(4,2)\n",
    "\n",
    "model.add(Conv2D(filters=4, kernel_size=(3, 3), padding='same'))\n",
    "model.add(MaxPooling2D(pool_size=2))\n",
    "model.add(Dropout(0.2))\n",
    "model.add(Conv2D(filters=16,kernel_size=(3,3),padding = 'same'))\n",
    "model.add(Conv2D(filters=8,kernel_size=(2,2),padding = 'same'))\n",
    "## changed from (3,3)->(1,3)\n",
    "model.add(tf.keras.layers.Normalization())\n",
    "\n",
    "model.add(Conv2D(filters=4, kernel_size=(3, 3), padding='same'))\n",
    "model.add(MaxPooling2D(pool_size=4))\n",
    "#model.add(Conv2D(filters=16, kernel_size=(3,3)))\n",
    "#model.add(Conv2D(filters=16, kernel_size=(2,2)))\n",
    "model.add(MaxPooling2D(pool_size=2))\n",
    "model.add(tf.keras.layers.Normalization())\n",
    "\n",
    "model.add(Flatten())\n",
    "model.add(Dense(64))\n",
    "model.add(Dense(32))\n",
    "model.add(Dense(16))\n",
    "model.add(Dense(4, activation='sigmoid'))\n",
    "original_image_size = (width,height)\n",
    "df_org = pd.read_csv(attr_data_path)\n",
    "\n",
    "for i in range(2, 21):\n",
    "    if (i > 1):\n",
    "        model = tf.keras.models.load_model('checkpoints/iter'+str(i-1))\n",
    "        print(\"model loaded: iter\"+str(i-1))\n",
    "        print(\"training model \"+str(i))\n",
    "    df = df_org[(1+images_data_size*i):images_data_size*(i+1)]\n",
    "    df = df.replace(-1,0)\n",
    "    #print(df.head(5))\n",
    "    images_data = list()\n",
    "    for idx in range(df.shape[0]):\n",
    "        path = \"{}/{}\".format(str(images_data_path),str(df.iloc[idx].image_id))\n",
    "        image = PIL.Image.open(path)\n",
    "        image_array = np.asarray(image)\n",
    "        images_data.append(image_array)\n",
    "    images_data = np.array(images_data)\n",
    "    def image_from_index(index, size=(original_image_size), path=images_data_path):\n",
    "        path = \"{}/{}\".format(str(path),str(df.iloc[index].image_id))\n",
    "        # to read the image\n",
    "        image = PIL.Image.open(path).resize(size)\n",
    "        image_array = np.asarray(image)\n",
    "\n",
    "        return image_array\n",
    "    images = images_data # list of array of images\n",
    "    labels = df[[\"image_id\", \"Bangs\", \"Straight_Hair\", \"Wavy_Hair\", \"Wearing_Hat\"]]  # dataframe of image features\n",
    "    train_images,test_images,train_labels,test_labels = train_test_split(images,labels,test_size=0.3,random_state=45)\n",
    "    y_test=test_labels.drop([\"image_id\"],axis=1)\n",
    "    y_train=train_labels.drop([\"image_id\"],axis=1)\n",
    "\n",
    "    X_test=test_images\n",
    "    X_train=train_images\n",
    "    #X_train = tf.expand_dims(X_train, axis=-1)\n",
    "    print(\"Samples Training Set:\",len(X_train))\n",
    "    X_test, X_val, y_test, y_val=train_test_split(X_test, y_test,test_size=0.5,random_state=42)\n",
    "    print(\"Samples in Validation Data:\",len(X_val))\n",
    "    print(\"Samples in Test Data:\",len(X_test))\n",
    "    x_ = original_image_size[0]\n",
    "    y_ = original_image_size[1]\n",
    "    model.compile(optimizer = \"adam\",loss=\"binary_crossentropy\",metrics = [tf.keras.metrics.Precision(), tf.keras.metrics.Recall(), 'categorical_accuracy'])\n",
    "    training_process = model.fit(X_train,y_train,epochs = 5,validation_data = (X_val,y_val),batch_size=5,shuffle = True)\n",
    "    model.save('checkpoints/iter'+str(i))"
   ]
  },
  {
   "cell_type": "markdown",
   "id": "2ec4dd2c",
   "metadata": {},
   "source": [
    "Empty box"
   ]
  },
  {
   "cell_type": "code",
   "execution_count": 40,
   "id": "5868f0cd",
   "metadata": {},
   "outputs": [
    {
     "name": "stdout",
     "output_type": "stream",
     "text": [
      "47/47 [==============================] - 2s 33ms/step - loss: -3543840600409243648.0000 - precision_6: 0.0000e+00 - recall_5: 0.0000e+00 - categorical_accuracy: 0.5047\n"
     ]
    },
    {
     "data": {
      "text/plain": [
       "[-3.5438406004092436e+18, 0.0, 0.0, 0.5046666860580444]"
      ]
     },
     "execution_count": 40,
     "metadata": {},
     "output_type": "execute_result"
    }
   ],
   "source": [
    "model.evaluate(X_test,y_test)\n",
    "#model.save_weights('./saved_models/model1.2')"
   ]
  },
  {
   "cell_type": "code",
   "execution_count": 46,
   "id": "d78342a6",
   "metadata": {},
   "outputs": [
    {
     "data": {
      "text/plain": [
       "array([0., 0., 0., 0.], dtype=float32)"
      ]
     },
     "execution_count": 46,
     "metadata": {},
     "output_type": "execute_result"
    }
   ],
   "source": [
    "model.predict(X_test)[1]\n",
    "#print(y_test[1])"
   ]
  },
  {
   "cell_type": "code",
   "execution_count": 45,
   "id": "5643350c",
   "metadata": {
    "collapsed": true
   },
   "outputs": [
    {
     "name": "stdout",
     "output_type": "stream",
     "text": [
      "Index(['Bangs', 'Straight_Hair', 'Wavy_Hair', 'Wearing_Hat'], dtype='object')\n",
      "Bangs            1\n",
      "Straight_Hair   -1\n",
      "Wavy_Hair        1\n",
      "Wearing_Hat     -1\n",
      "Name: 13844, dtype: int64\n"
     ]
    },
    {
     "data": {
      "image/png": "[encoded data removed]",
      "text/plain": [
       "<Figure size 432x288 with 1 Axes>"
      ]
     },
     "metadata": {
      "needs_background": "light"
     },
     "output_type": "display_data"
    }
   ],
   "source": [
    "plt.imshow(X_test[1], cmap='gray')\n",
    "print(labels.columns[1:])\n",
    "print(y_test.iloc[1])"
   ]
  },
  {
   "cell_type": "code",
   "execution_count": null,
   "id": "f1505e06",
   "metadata": {},
   "outputs": [],
   "source": []
  }
 ],
 "metadata": {
  "kernelspec": {
   "display_name": "Python 3 (ipykernel)",
   "language": "python",
   "name": "python3"
  },
  "language_info": {
   "codemirror_mode": {
    "name": "ipython",
    "version": 3
   },
   "file_extension": ".py",
   "mimetype": "text/x-python",
   "name": "python",
   "nbconvert_exporter": "python",
   "pygments_lexer": "ipython3",
   "version": "3.9.7"
  }
 },
 "nbformat": 4,
 "nbformat_minor": 5
}
