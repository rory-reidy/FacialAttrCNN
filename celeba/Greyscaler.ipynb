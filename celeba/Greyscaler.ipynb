{
 "cells": [
  {
   "cell_type": "code",
   "execution_count": 3,
   "id": "84734ebd",
   "metadata": {},
   "outputs": [],
   "source": [
    "import numpy as np\n",
    "import PIL.Image\n",
    "\n",
    "# Convert images to grayscale numpy arrays\n",
    "# Each array has 100 images\n",
    "pix_array = np.ndarray((218, 178), dtype=int)\n",
    "\n",
    "for n in range(1, 202600):\n",
    "    with PIL.Image.open(\"archive/img_align_celeba/img_align_celeba/\" + str(n).zfill(6) + \".jpg\") as im:\n",
    "        #print(str(n).zfill(6) + \".jpg opened\")\n",
    "        pixels = im.load()\n",
    "        #print(im.size)\n",
    "        for j in range(218):\n",
    "            for i in range(178):\n",
    "                pix_array[j][i] = 0.299 * pixels[i, j][0] + 0.587 * pixels[i, j][1] + 0.114 * pixels[i, j][2]\n",
    "    image = PIL.Image.fromarray(pix_array.astype(np.uint8))\n",
    "    image.save(\"greyscale/\"+str(n).zfill(6)+\".jpg\")\n",
    "    #print(str(n).zfill(6) + \".jpg saved\")"
   ]
  },
  {
   "cell_type": "code",
   "execution_count": null,
   "id": "2d57226a",
   "metadata": {},
   "outputs": [],
   "source": []
  }
 ],
 "metadata": {
  "kernelspec": {
   "display_name": "Python 3 (ipykernel)",
   "language": "python",
   "name": "python3"
  },
  "language_info": {
   "codemirror_mode": {
    "name": "ipython",
    "version": 3
   },
   "file_extension": ".py",
   "mimetype": "text/x-python",
   "name": "python",
   "nbconvert_exporter": "python",
   "pygments_lexer": "ipython3",
   "version": "3.9.7"
  }
 },
 "nbformat": 4,
 "nbformat_minor": 5
}
