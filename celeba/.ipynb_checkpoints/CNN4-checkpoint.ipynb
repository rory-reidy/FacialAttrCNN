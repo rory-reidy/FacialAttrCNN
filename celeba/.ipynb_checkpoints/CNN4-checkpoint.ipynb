{
 "cells": [
  {
   "cell_type": "code",
   "execution_count": 1,
   "id": "472eedd8",
   "metadata": {},
   "outputs": [],
   "source": [
    "import numpy as np\n",
    "import pandas as pd\n",
    "import PIL\n",
    "import matplotlib.patches as patches\n",
    "import matplotlib.pyplot as plt\n",
    "import tensorflow as tf\n",
    "from sklearn.model_selection import train_test_split\n",
    "from tensorflow.keras.models import Sequential\n",
    "from tensorflow.keras.layers import Dense,Dropout,Flatten,Conv2D,MaxPooling2D\n",
    "from tensorflow.keras.preprocessing import image"
   ]
  },
  {
   "cell_type": "code",
   "execution_count": 2,
   "id": "610903cb",
   "metadata": {},
   "outputs": [],
   "source": [
    "attr_data_path = \"list_attr_celeba.csv\"\n",
    "images_data_path = \"C:/Users/foreh/Documents/celeba/greyscale\"\n",
    "images_data_size = 20000 \n",
    "\n",
    "width = 178\n",
    "height = 218\n",
    "x_ = 100                           # new value of x\n",
    "image_size_ratio = width / height    # dimensions ratio\n",
    "y_ = int(image_size_ratio * x_)  \n",
    "\n",
    "original_image_size = (x_,y_)"
   ]
  },
  {
   "cell_type": "code",
   "execution_count": 3,
   "id": "39ecdc47",
   "metadata": {},
   "outputs": [],
   "source": [
    "df_org = pd.read_csv(attr_data_path)\n",
    "df = df_org[images_data_size:images_data_size*2]\n",
    "df = df.replace(-1,0)"
   ]
  },
  {
   "cell_type": "code",
   "execution_count": null,
   "id": "ed1459a7",
   "metadata": {},
   "outputs": [],
   "source": [
    "images_data = list()\n",
    "for idx in range(df.shape[0]):\n",
    "    path = \"{}/{}\".format(str(images_data_path),str(df.iloc[idx].image_id))\n",
    "    image = PIL.Image.open(path).resize(original_image_size)\n",
    "    image_array = np.asarray(image)\n",
    "    images_data.append(image_array)\n",
    "images_data = np.array(images_data)"
   ]
  },
  {
   "cell_type": "code",
   "execution_count": null,
   "id": "1721764d",
   "metadata": {},
   "outputs": [],
   "source": [
    "plt.imshow(images_data[3000])\n",
    "def image_from_index(index, size=(original_image_size), path=images_data_path):\n",
    "    path = \"{}/{}\".format(str(path),str(df.iloc[index].image_id))\n",
    "    # to read the image\n",
    "    image = PIL.Image.open(path).resize(size)\n",
    "    image_array = np.asarray(image)\n",
    "    \n",
    "    return image_array"
   ]
  },
  {
   "cell_type": "code",
   "execution_count": null,
   "id": "be0a425e",
   "metadata": {},
   "outputs": [],
   "source": [
    "# fuction to get a list of all key points of the face\n",
    "def image_attr_list(index, df=df):\n",
    "    # box dictionary\n",
    "    attr_list = [df.iloc[index].Straight_Hair,\n",
    "                   df.iloc[index].Wavy_Hair,\n",
    "                   df.iloc[index].Bangs,\n",
    "                   df.iloc[index].Wearing_Hat]\n",
    "    \n",
    "    return attr_list"
   ]
  },
  {
   "cell_type": "code",
   "execution_count": null,
   "id": "75d268f8",
   "metadata": {},
   "outputs": [],
   "source": [
    "print(image_attr_list(300))\n",
    "plt.imshow(images_data[300])"
   ]
  },
  {
   "cell_type": "code",
   "execution_count": null,
   "id": "6015d10a",
   "metadata": {},
   "outputs": [],
   "source": [
    "images = images_data # list of array of images\n",
    "labels = df[[\"image_id\", \"Bangs\", \"Straight_Hair\", \"Wavy_Hair\", \"Wearing_Hat\"]]  # dataframe of image features\n",
    "print(labels)"
   ]
  },
  {
   "cell_type": "code",
   "execution_count": null,
   "id": "91e2a1b3",
   "metadata": {},
   "outputs": [],
   "source": [
    "train_images,test_images,train_labels,test_labels = train_test_split(images,labels,test_size=0.3,random_state=45)\n",
    "print(train_labels)"
   ]
  },
  {
   "cell_type": "code",
   "execution_count": null,
   "id": "da8bc515",
   "metadata": {},
   "outputs": [],
   "source": [
    "y_test=test_labels.drop([\"image_id\"],axis=1)\n",
    "y_train=train_labels.drop([\"image_id\"],axis=1)\n",
    "\n",
    "X_test=test_images\n",
    "X_train=train_images\n",
    "#X_train = tf.expand_dims(X_train, axis=-1)\n",
    "print(\"Samples Training Set:\",len(X_train))"
   ]
  },
  {
   "cell_type": "code",
   "execution_count": null,
   "id": "e1608618",
   "metadata": {
    "scrolled": true
   },
   "outputs": [],
   "source": [
    "X_test, X_val, y_test, y_val=train_test_split(X_test, y_test,test_size=0.5,random_state=42)\n",
    "print(\"Samples in Validation Data:\",len(X_val))\n",
    "print(\"Samples in Test Data:\",len(X_test))\n",
    "print(X_val[1])\n",
    "plt.imshow(X_val[2])"
   ]
  },
  {
   "cell_type": "code",
   "execution_count": null,
   "id": "123d7cea",
   "metadata": {},
   "outputs": [],
   "source": [
    "x_ = original_image_size[0]\n",
    "y_ = original_image_size[1]\n",
    "print(y_,x_,1)"
   ]
  },
  {
   "cell_type": "code",
   "execution_count": null,
   "id": "95128973",
   "metadata": {},
   "outputs": [],
   "source": [
    "model = load_model(\"saved_models/local1-19999\")"
   ]
  },
  {
   "cell_type": "code",
   "execution_count": null,
   "id": "07f8d23e",
   "metadata": {},
   "outputs": [],
   "source": [
    "model.summary()"
   ]
  },
  {
   "cell_type": "markdown",
   "id": "2ec4dd2c",
   "metadata": {},
   "source": [
    "Empty box"
   ]
  },
  {
   "cell_type": "code",
   "execution_count": null,
   "id": "807d14ba",
   "metadata": {},
   "outputs": [],
   "source": [
    "model.compile(optimizer = \"sgd\",loss=\"binary_crossentropy\",metrics = ['accuracy'])"
   ]
  },
  {
   "cell_type": "code",
   "execution_count": null,
   "id": "393b75c8",
   "metadata": {},
   "outputs": [],
   "source": [
    "checkpoint_filepath = 'C:/foreh/Documents/celeba/model_checkpoints'\n",
    "model_checkpoint_callback = tf.keras.callbacks.ModelCheckpoint(\n",
    "    filepath=checkpoint_filepath,\n",
    "    save_weights_only=True,\n",
    "    monitor='val_accuracy',\n",
    "    mode='max',\n",
    "    save_best_only=False)"
   ]
  },
  {
   "cell_type": "code",
   "execution_count": null,
   "id": "05fe8014",
   "metadata": {},
   "outputs": [],
   "source": [
    "training_process = model.fit(X_train,y_train,epochs = 10,validation_data = (X_val,y_val),batch_size=16,shuffle = True, callbacks=[model_checkpoint_callback])\n",
    "model.save_model('./saved_models/local20000-39999')"
   ]
  },
  {
   "cell_type": "code",
   "execution_count": 19,
   "id": "5868f0cd",
   "metadata": {},
   "outputs": [
    {
     "name": "stdout",
     "output_type": "stream",
     "text": [
      "188/188 [==============================] - 3s 14ms/step - loss: 0.3647 - accuracy: 0.5352\n"
     ]
    }
   ],
   "source": [
    "model.evaluate(X_test,y_test)"
   ]
  },
  {
   "cell_type": "code",
   "execution_count": null,
   "id": "b44d70e6",
   "metadata": {},
   "outputs": [],
   "source": []
  },
  {
   "cell_type": "code",
   "execution_count": null,
   "id": "b6cf281b",
   "metadata": {},
   "outputs": [],
   "source": []
  },
  {
   "cell_type": "code",
   "execution_count": null,
   "id": "01466d03",
   "metadata": {},
   "outputs": [],
   "source": []
  },
  {
   "cell_type": "code",
   "execution_count": null,
   "id": "991504d2",
   "metadata": {},
   "outputs": [],
   "source": []
  },
  {
   "cell_type": "code",
   "execution_count": null,
   "id": "6dab7daf",
   "metadata": {},
   "outputs": [],
   "source": []
  },
  {
   "cell_type": "code",
   "execution_count": null,
   "id": "38ee7fcc",
   "metadata": {},
   "outputs": [],
   "source": []
  },
  {
   "cell_type": "code",
   "execution_count": null,
   "id": "9f7c4de1",
   "metadata": {},
   "outputs": [],
   "source": []
  },
  {
   "cell_type": "code",
   "execution_count": null,
   "id": "659aa419",
   "metadata": {},
   "outputs": [],
   "source": []
  },
  {
   "cell_type": "code",
   "execution_count": null,
   "id": "573ea669",
   "metadata": {},
   "outputs": [],
   "source": []
  },
  {
   "cell_type": "code",
   "execution_count": null,
   "id": "dd882534",
   "metadata": {},
   "outputs": [],
   "source": []
  },
  {
   "cell_type": "code",
   "execution_count": null,
   "id": "53e03712",
   "metadata": {},
   "outputs": [],
   "source": []
  },
  {
   "cell_type": "code",
   "execution_count": null,
   "id": "8731eea0",
   "metadata": {},
   "outputs": [],
   "source": []
  },
  {
   "cell_type": "code",
   "execution_count": null,
   "id": "353187b8",
   "metadata": {},
   "outputs": [],
   "source": []
  }
 ],
 "metadata": {
  "kernelspec": {
   "display_name": "Python 3 (ipykernel)",
   "language": "python",
   "name": "python3"
  },
  "language_info": {
   "codemirror_mode": {
    "name": "ipython",
    "version": 3
   },
   "file_extension": ".py",
   "mimetype": "text/x-python",
   "name": "python",
   "nbconvert_exporter": "python",
   "pygments_lexer": "ipython3",
   "version": "3.9.7"
  }
 },
 "nbformat": 4,
 "nbformat_minor": 5
}
